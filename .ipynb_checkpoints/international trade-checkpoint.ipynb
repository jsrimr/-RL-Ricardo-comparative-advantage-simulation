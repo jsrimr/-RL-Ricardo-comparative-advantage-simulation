{
 "cells": [
  {
   "cell_type": "code",
   "execution_count": 1,
   "metadata": {},
   "outputs": [],
   "source": [
    "import numpy as np"
   ]
  },
  {
   "cell_type": "code",
   "execution_count": 7,
   "metadata": {},
   "outputs": [
    {
     "data": {
      "text/plain": [
       "2"
      ]
     },
     "execution_count": 7,
     "metadata": {},
     "output_type": "execute_result"
    }
   ],
   "source": [
    "np.random.randint(3)"
   ]
  },
  {
   "cell_type": "code",
   "execution_count": 13,
   "metadata": {},
   "outputs": [],
   "source": [
    "class agent:\n",
    "    def __init__(self,n_variety,shoes_q,steel_q,phone_q):\n",
    "        self.shoes_p = [_, steel_q/shoes_q, phone_q/shoes_q]\n",
    "        self.steel_p = [shoes_q/steel_q, _,  phone_q/steel_q] \n",
    "        self.phone_p = [shoes_q/phone_q, steel_q/phone_q, _]\n",
    "        \n",
    "        self.price_plan = [self.shoes_p,self.steel_p, self.phone_p]\n",
    "        self.value=np.zeros(n_variety)\n",
    "        self.commo= np.random.randint(3)\n",
    "    \n",
    "    def get_price(commo):\n",
    "        return self.price_plan[commo]\n",
    "    \n",
    "    def get_reward(commo):\n",
    "        self.value[commo]+=1\n",
    "            \n",
    "    def choose_commodity(self,epsilon):\n",
    "        rand_num=np.random.random()\n",
    "        if epsilon>rand_num:\n",
    "            return np.random.randint(3)\n",
    "        else:\n",
    "            return np.argmax(self.value)    \n",
    "        "
   ]
  },
  {
   "cell_type": "code",
   "execution_count": null,
   "metadata": {},
   "outputs": [],
   "source": [
    "def trade(agnet1 ,agent2 , competitor):\n",
    "    commo1 = agent1.commo\n",
    "    commo2 = agent2.commo\n",
    "\n",
    "#     def demand_supply_meet( selling_commo, other_agents):\n",
    "        \n",
    "    flag=True\n",
    "    #각자 자기가진 물건보다 상대의 것이 낫다고 판단되면 교환\n",
    "    if agnet1.get_price[commo1]< agent1.get_price[commo2] and \n",
    "    agent2.get_price[commo2] < agent2.get_price[commo1] :\n",
    "         flag =True\n",
    "\n",
    "    \n",
    "    if competitor.get_price[commo1]< agent1.get_price[commo1] or \n",
    "    competitor.get_price[commo2]<agent2.get_price[commo2] :\n",
    "        flag= False\n",
    "    \n",
    "    return flag"
   ]
  },
  {
   "cell_type": "code",
   "execution_count": 9,
   "metadata": {},
   "outputs": [],
   "source": [
    "from itertools import combinations"
   ]
  },
  {
   "cell_type": "code",
   "execution_count": 12,
   "metadata": {},
   "outputs": [
    {
     "data": {
      "text/plain": [
       "[(<__main__.agent at 0x27188e377f0>, <__main__.agent at 0x27188e37588>),\n",
       " (<__main__.agent at 0x27188e377f0>, <__main__.agent at 0x27188e37438>),\n",
       " (<__main__.agent at 0x27188e37588>, <__main__.agent at 0x27188e37438>)]"
      ]
     },
     "execution_count": 12,
     "metadata": {},
     "output_type": "execute_result"
    }
   ],
   "source": [
    "n_variety=3\n",
    "USA=agent(n_variety,800,1000,1200)\n",
    "JAPAN=agent(n_variety,1000,1000,700)\n",
    "CHINA=agent(n_variety,2000,800,1300)\n",
    "paris=[[USA,JAPAN,CHINA],[USA,CHINA,JAPAN],[JAPAN,CHINA,USA]]"
   ]
  },
  {
   "cell_type": "code",
   "execution_count": null,
   "metadata": {},
   "outputs": [],
   "source": [
    "def experiment(N_episode,epsilon):\n",
    "    history = []\n",
    "    for i in range(N_episode):\n",
    "        \n",
    "        for pair in pairs:\n",
    "            trade\n",
    "        action = bandit.choose_eps_greedy(epsilon)\n",
    "        R = bandit.get_reward(action)\n",
    "        bandit.update_est(action,R)\n",
    "        history.append(R)\n",
    "    return np.array(history)"
   ]
  }
 ],
 "metadata": {
  "kernelspec": {
   "display_name": "Python 3",
   "language": "python",
   "name": "python3"
  },
  "language_info": {
   "codemirror_mode": {
    "name": "ipython",
    "version": 3
   },
   "file_extension": ".py",
   "mimetype": "text/x-python",
   "name": "python",
   "nbconvert_exporter": "python",
   "pygments_lexer": "ipython3",
   "version": "3.6.4"
  }
 },
 "nbformat": 4,
 "nbformat_minor": 2
}
